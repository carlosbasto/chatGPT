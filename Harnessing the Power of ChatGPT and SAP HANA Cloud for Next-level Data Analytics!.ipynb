{
 "cells": [
  {
   "cell_type": "markdown",
   "id": "e95534d5",
   "metadata": {},
   "source": [
    "## Harnessing the Power of ChatGPT and SAP HANA Cloud for Next-level Data Analytics!"
   ]
  },
  {
   "cell_type": "code",
   "execution_count": 8,
   "id": "7743ab16",
   "metadata": {},
   "outputs": [],
   "source": [
    "import time\n",
    "from json import load\n",
    "from hana_ml import dataframe\n",
    "from pathlib import Path\n",
    "from pyChatGPT import ChatGPT as cGPT"
   ]
  },
  {
   "cell_type": "code",
   "execution_count": 5,
   "id": "3a83bf4a",
   "metadata": {},
   "outputs": [],
   "source": [
    "class Chatbot:\n",
    "    \"\"\"\n",
    "    Chatbot class contains the get_session_token and chatbot_interface functions as methods.\n",
    "    The session_token variable is now an instance variable, and the api variable is created\n",
    "    in the constructor. The chatbot_interface method uses self.api instead of the global\n",
    "    variable api, and the get_session_token method now uses self instead of the global variable\n",
    "    session_token.\n",
    "\n",
    "    This way, you can create multiple instances of the Chatbot class, each with its own session\n",
    "    token and API object.\n",
    "    \"\"\"\n",
    "\n",
    "    def __init__(self):\n",
    "        \"\"\"\n",
    "        Define chat GPT behavior as SQL Console for returning\n",
    "        SQL statements only. Otherwise, some further work must\n",
    "        must be done before send to SAP HANA.\n",
    "        This text was based on some very good community contributions \n",
    "        here: https://github.com/f/awesome-chatgpt-prompts.\n",
    "        \"\"\"\n",
    "        self.bot_behavior = self.get_session_token(\"behavior.txt\")\n",
    "\n",
    "        \"\"\"\n",
    "        Get session token obtained from cookies, check file.\n",
    "        Set api from pyChatGPT package based on that token.\n",
    "        More information on how to get it: \n",
    "        https://www.npmjs.com/package/chatgpt?activeTab=readme\n",
    "        \"\"\"\n",
    "        self.session_token = self.get_session_token(\"session_token.txt\")\n",
    "        self.api = cGPT(self.session_token)\n",
    "\n",
    "    def get_session_token(self, file_name):\n",
    "\n",
    "        file_path = Path(file_name)\n",
    "\n",
    "        if not file_path.is_file():\n",
    "            print(\"Error: {} not found\".format(file_path))\n",
    "            return None\n",
    "        try:\n",
    "            with open(file_path, \"r\") as file:\n",
    "                session_token = file.read().strip()\n",
    "        except:\n",
    "            print(\"Error: Unable to read {}\".format(file_path))\n",
    "            return None\n",
    "\n",
    "        return session_token\n",
    "\n",
    "    def create_interaction(self, prompt, script=False):\n",
    "        def set_query(string):\n",
    "            string = string.replace(\"`\", \"\")\n",
    "            string = string.replace(\"\\\\\", \"\")\n",
    "            string = string.replace(\"\\n\", \" \")\n",
    "            return string\n",
    "\n",
    "        if not script:\n",
    "            response = self.api.send_message(prompt)\n",
    "            message = response[\"message\"]\n",
    "\n",
    "        else:\n",
    "            response = self.api.send_message(self.bot_behavior + prompt)\n",
    "            message = set_query(response[\"message\"])\n",
    "        \n",
    "        self.response = response\n",
    "        return message"
   ]
  },
  {
   "cell_type": "code",
   "execution_count": null,
   "id": "ea8ff026",
   "metadata": {},
   "outputs": [],
   "source": [
    "class SAPHANA:\n",
    "    def __init__(self, connection_file):\n",
    "        self.connection_file = connection_file\n",
    "        self.conn = None\n",
    "\n",
    "    def get_connection(self):\n",
    "        \"\"\"\n",
    "        This function uses the settings provided in the access\n",
    "        file for connecting to SAP HANA database.\n",
    "        \"\"\"\n",
    "        start = time.time()\n",
    "        with open(self.connection_file) as file:\n",
    "            conn_properties = load(file)\n",
    "            self.conn = dataframe.ConnectionContext(\n",
    "                conn_properties[\"address\"],\n",
    "                conn_properties[\"port\"],\n",
    "                conn_properties[\"user\"],\n",
    "                conn_properties[\"password\"],\n",
    "            )\n",
    "\n",
    "            msg = (\n",
    "                \"INFO: Connection successfully established to SAP HANA.\"\n",
    "                if self.conn.connection.isconnected() == True\n",
    "                else \"ERROR: Not possible to connect. Check access file information.\"\n",
    "            )\n",
    "            print(\"{}\".format(msg))\n",
    "            end = time.time()\n",
    "            print(\"      Elapsed time: {:.2f} seconds\".format(end - start))\n",
    "            print(\"\\033[92m      MESSAGE: Logged with connection ID {} in schema {}.\\033[00m\".format(\n",
    "                self.conn.get_connection_id(),\n",
    "                self.conn.get_current_schema())\n",
    "            )\n",
    "    \n",
    "    def connect(self):\n",
    "        self.get_connection()\n",
    "        return self.conn\n",
    "\n",
    "    def get_connection_id(self):\n",
    "        return self.conn.get_connection_id()\n",
    "\n",
    "    def get_current_schema(self):\n",
    "        return self.conn.get_current_schema()\n",
    "    \n",
    "    def close_connection(self):\n",
    "        self.conn.close()\n"
   ]
  },
  {
   "cell_type": "markdown",
   "id": "7b931428",
   "metadata": {},
   "source": [
    "## Instantiate the class"
   ]
  },
  {
   "cell_type": "code",
   "execution_count": 6,
   "id": "f8d370c3",
   "metadata": {},
   "outputs": [],
   "source": [
    "# Instanciate Chatbot Class\n",
    "bot = Chatbot()"
   ]
  },
  {
   "cell_type": "markdown",
   "id": "616fc541",
   "metadata": {},
   "source": [
    "## Connect to SAP HANA"
   ]
  },
  {
   "cell_type": "code",
   "execution_count": null,
   "id": "ea4713fd",
   "metadata": {},
   "outputs": [],
   "source": [
    "conn = SAPHANA('access_file.json')"
   ]
  },
  {
   "cell_type": "markdown",
   "id": "a6cb76f7",
   "metadata": {},
   "source": [
    "# TRY IT OUT!"
   ]
  },
  {
   "cell_type": "code",
   "execution_count": null,
   "id": "d9411b22",
   "metadata": {},
   "outputs": [],
   "source": [
    "response = bot.create_interaction(input(), script=False)"
   ]
  },
  {
   "cell_type": "code",
   "execution_count": null,
   "id": "52d3002f",
   "metadata": {},
   "outputs": [],
   "source": [
    "print(response)"
   ]
  }
 ],
 "metadata": {
  "kernelspec": {
   "display_name": "Python 3 (ipykernel)",
   "language": "python",
   "name": "python3"
  },
  "language_info": {
   "codemirror_mode": {
    "name": "ipython",
    "version": 3
   },
   "file_extension": ".py",
   "mimetype": "text/x-python",
   "name": "python",
   "nbconvert_exporter": "python",
   "pygments_lexer": "ipython3",
   "version": "3.10.2"
  }
 },
 "nbformat": 4,
 "nbformat_minor": 5
}
